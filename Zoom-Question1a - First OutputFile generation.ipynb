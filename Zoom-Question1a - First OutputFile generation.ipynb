{
 "cells": [
  {
   "cell_type": "code",
   "execution_count": 1,
   "metadata": {
    "collapsed": true
   },
   "outputs": [],
   "source": [
    "import pandas as pd\n",
    "import json\n",
    "from datetime import datetime"
   ]
  },
  {
   "cell_type": "code",
   "execution_count": 2,
   "metadata": {
    "collapsed": true
   },
   "outputs": [],
   "source": [
    "data = pd.read_json('meeting.txt')"
   ]
  },
  {
   "cell_type": "code",
   "execution_count": 3,
   "metadata": {},
   "outputs": [
    {
     "data": {
      "text/html": [
       "<div>\n",
       "<style>\n",
       "    .dataframe thead tr:only-child th {\n",
       "        text-align: right;\n",
       "    }\n",
       "\n",
       "    .dataframe thead th {\n",
       "        text-align: left;\n",
       "    }\n",
       "\n",
       "    .dataframe tbody tr th {\n",
       "        vertical-align: top;\n",
       "    }\n",
       "</style>\n",
       "<table border=\"1\" class=\"dataframe\">\n",
       "  <thead>\n",
       "    <tr style=\"text-align: right;\">\n",
       "      <th></th>\n",
       "      <th>Company</th>\n",
       "      <th>city</th>\n",
       "      <th>country</th>\n",
       "      <th>is_host</th>\n",
       "      <th>jointime</th>\n",
       "      <th>leavetime</th>\n",
       "      <th>meetingid</th>\n",
       "      <th>userid</th>\n",
       "    </tr>\n",
       "  </thead>\n",
       "  <tbody>\n",
       "    <tr>\n",
       "      <th>0</th>\n",
       "      <td>ABC</td>\n",
       "      <td>Baltimore</td>\n",
       "      <td>UNITED STATES</td>\n",
       "      <td>True</td>\n",
       "      <td>2017-04-01 00:00:01</td>\n",
       "      <td>2017-04-01 03:00:22</td>\n",
       "      <td>7f42225584</td>\n",
       "      <td>9FE1DE67F2</td>\n",
       "    </tr>\n",
       "    <tr>\n",
       "      <th>1</th>\n",
       "      <td>ABC</td>\n",
       "      <td>Baltimore</td>\n",
       "      <td>UNITED STATES</td>\n",
       "      <td>False</td>\n",
       "      <td>2017-04-01 00:00:04</td>\n",
       "      <td>2017-04-01 03:00:21</td>\n",
       "      <td>7f42225584</td>\n",
       "      <td>DEAB0BEF18</td>\n",
       "    </tr>\n",
       "    <tr>\n",
       "      <th>2</th>\n",
       "      <td>ABC</td>\n",
       "      <td>Boise City</td>\n",
       "      <td>UNITED STATES</td>\n",
       "      <td>False</td>\n",
       "      <td>2017-04-01 00:00:03</td>\n",
       "      <td>2017-04-01 03:00:19</td>\n",
       "      <td>7f42225584</td>\n",
       "      <td>AD1BB4E656</td>\n",
       "    </tr>\n",
       "    <tr>\n",
       "      <th>3</th>\n",
       "      <td>BCD</td>\n",
       "      <td>San Bernardino</td>\n",
       "      <td>UNITED STATES</td>\n",
       "      <td>False</td>\n",
       "      <td>2017-04-01 00:01:42</td>\n",
       "      <td>2017-04-01 00:13:07</td>\n",
       "      <td>5494d16309</td>\n",
       "      <td>2C1A95AC8C</td>\n",
       "    </tr>\n",
       "    <tr>\n",
       "      <th>4</th>\n",
       "      <td>BCD</td>\n",
       "      <td>Akron</td>\n",
       "      <td>UNITED STATES</td>\n",
       "      <td>True</td>\n",
       "      <td>2017-04-01 00:01:42</td>\n",
       "      <td>2017-04-01 00:13:42</td>\n",
       "      <td>5494d16309</td>\n",
       "      <td>0B781FA334</td>\n",
       "    </tr>\n",
       "  </tbody>\n",
       "</table>\n",
       "</div>"
      ],
      "text/plain": [
       "<div>\n",
       "<style>\n",
       "    .dataframe thead tr:only-child th {\n",
       "        text-align: right;\n",
       "    }\n",
       "\n",
       "    .dataframe thead th {\n",
       "        text-align: left;\n",
       "    }\n",
       "\n",
       "    .dataframe tbody tr th {\n",
       "        vertical-align: top;\n",
       "    }\n",
       "</style>\n",
       "<table border=\"1\" class=\"dataframe\">\n",
       "  <thead>\n",
       "    <tr style=\"text-align: right;\">\n",
       "      <th></th>\n",
       "      <th>Company</th>\n",
       "      <th>city</th>\n",
       "      <th>country</th>\n",
       "      <th>is_host</th>\n",
       "      <th>jointime</th>\n",
       "      <th>leavetime</th>\n",
       "      <th>meetingid</th>\n",
       "      <th>userid</th>\n",
       "    </tr>\n",
       "  </thead>\n",
       "  <tbody>\n",
       "    <tr>\n",
       "      <th>0</th>\n",
       "      <td>ABC</td>\n",
       "      <td>Baltimore</td>\n",
       "      <td>UNITED STATES</td>\n",
       "      <td>True</td>\n",
       "      <td>2017-04-01 00:00:01</td>\n",
       "      <td>2017-04-01 03:00:22</td>\n",
       "      <td>7f42225584</td>\n",
       "      <td>9FE1DE67F2</td>\n",
       "    </tr>\n",
       "    <tr>\n",
       "      <th>1</th>\n",
       "      <td>ABC</td>\n",
       "      <td>Baltimore</td>\n",
       "      <td>UNITED STATES</td>\n",
       "      <td>False</td>\n",
       "      <td>2017-04-01 00:00:04</td>\n",
       "      <td>2017-04-01 03:00:21</td>\n",
       "      <td>7f42225584</td>\n",
       "      <td>DEAB0BEF18</td>\n",
       "    </tr>\n",
       "    <tr>\n",
       "      <th>2</th>\n",
       "      <td>ABC</td>\n",
       "      <td>Boise City</td>\n",
       "      <td>UNITED STATES</td>\n",
       "      <td>False</td>\n",
       "      <td>2017-04-01 00:00:03</td>\n",
       "      <td>2017-04-01 03:00:19</td>\n",
       "      <td>7f42225584</td>\n",
       "      <td>AD1BB4E656</td>\n",
       "    </tr>\n",
       "    <tr>\n",
       "      <th>3</th>\n",
       "      <td>BCD</td>\n",
       "      <td>San Bernardino</td>\n",
       "      <td>UNITED STATES</td>\n",
       "      <td>False</td>\n",
       "      <td>2017-04-01 00:01:42</td>\n",
       "      <td>2017-04-01 00:13:07</td>\n",
       "      <td>5494d16309</td>\n",
       "      <td>2C1A95AC8C</td>\n",
       "    </tr>\n",
       "    <tr>\n",
       "      <th>4</th>\n",
       "      <td>BCD</td>\n",
       "      <td>Akron</td>\n",
       "      <td>UNITED STATES</td>\n",
       "      <td>True</td>\n",
       "      <td>2017-04-01 00:01:42</td>\n",
       "      <td>2017-04-01 00:13:42</td>\n",
       "      <td>5494d16309</td>\n",
       "      <td>0B781FA334</td>\n",
       "    </tr>\n",
       "  </tbody>\n",
       "</table>\n",
       "</div>"
      ]
     },
     "execution_count": 3,
     "metadata": {},
     "output_type": "execute_result"
    }
   ],
   "source": [
    "data.head()"
   ]
  },
  {
   "cell_type": "code",
   "execution_count": 4,
   "metadata": {
    "collapsed": true
   },
   "outputs": [],
   "source": [
    "date_format = '%Y-%m-%d %H:%M:%S'"
   ]
  },
  {
   "cell_type": "code",
   "execution_count": 5,
   "metadata": {
    "collapsed": true
   },
   "outputs": [],
   "source": [
    "only_date_format = '%Y-%m-%d'"
   ]
  },
  {
   "cell_type": "code",
   "execution_count": 6,
   "metadata": {
    "collapsed": true
   },
   "outputs": [],
   "source": [
    "str_2_date_fn = lambda x: datetime.strptime(x, date_format)"
   ]
  },
  {
   "cell_type": "code",
   "execution_count": 7,
   "metadata": {
    "collapsed": true
   },
   "outputs": [],
   "source": [
    "data['jointime'] = data['jointime'].apply(str_2_date_fn)"
   ]
  },
  {
   "cell_type": "code",
   "execution_count": 8,
   "metadata": {
    "collapsed": true
   },
   "outputs": [],
   "source": [
    "data['leavetime'] = data['leavetime'].apply(str_2_date_fn)"
   ]
  },
  {
   "cell_type": "code",
   "execution_count": 9,
   "metadata": {
    "collapsed": true
   },
   "outputs": [],
   "source": [
    "data['date'] = data['leavetime'].apply(lambda x: x.strftime(only_date_format))"
   ]
  },
  {
   "cell_type": "code",
   "execution_count": 10,
   "metadata": {
    "collapsed": true
   },
   "outputs": [],
   "source": [
    "data['duration'] = data['leavetime'] - data['jointime']"
   ]
  },
  {
   "cell_type": "code",
   "execution_count": 11,
   "metadata": {
    "collapsed": true
   },
   "outputs": [],
   "source": [
    "data['duration_secs'] = data['duration'].dt.total_seconds()"
   ]
  },
  {
   "cell_type": "code",
   "execution_count": 13,
   "metadata": {
    "collapsed": true
   },
   "outputs": [],
   "source": [
    "data['duration_mins'] = data['duration'].dt.total_seconds().div(60)"
   ]
  },
  {
   "cell_type": "code",
   "execution_count": 229,
   "metadata": {},
   "outputs": [
    {
     "data": {
      "text/html": [
       "<div>\n",
       "<style>\n",
       "    .dataframe thead tr:only-child th {\n",
       "        text-align: right;\n",
       "    }\n",
       "\n",
       "    .dataframe thead th {\n",
       "        text-align: left;\n",
       "    }\n",
       "\n",
       "    .dataframe tbody tr th {\n",
       "        vertical-align: top;\n",
       "    }\n",
       "</style>\n",
       "<table border=\"1\" class=\"dataframe\">\n",
       "  <thead>\n",
       "    <tr style=\"text-align: right;\">\n",
       "      <th></th>\n",
       "      <th>Company</th>\n",
       "      <th>city</th>\n",
       "      <th>country</th>\n",
       "      <th>is_host</th>\n",
       "      <th>jointime</th>\n",
       "      <th>leavetime</th>\n",
       "      <th>meetingid</th>\n",
       "      <th>userid</th>\n",
       "      <th>date</th>\n",
       "      <th>duration</th>\n",
       "      <th>duration_secs</th>\n",
       "      <th>duration_mins</th>\n",
       "    </tr>\n",
       "  </thead>\n",
       "  <tbody>\n",
       "    <tr>\n",
       "      <th>0</th>\n",
       "      <td>ABC</td>\n",
       "      <td>Baltimore</td>\n",
       "      <td>UNITED STATES</td>\n",
       "      <td>True</td>\n",
       "      <td>2017-04-01 00:00:01</td>\n",
       "      <td>2017-04-01 03:00:22</td>\n",
       "      <td>7f42225584</td>\n",
       "      <td>9FE1DE67F2</td>\n",
       "      <td>2017-04-01</td>\n",
       "      <td>03:00:21</td>\n",
       "      <td>10821.0</td>\n",
       "      <td>180.350000</td>\n",
       "    </tr>\n",
       "    <tr>\n",
       "      <th>1</th>\n",
       "      <td>ABC</td>\n",
       "      <td>Baltimore</td>\n",
       "      <td>UNITED STATES</td>\n",
       "      <td>False</td>\n",
       "      <td>2017-04-01 00:00:04</td>\n",
       "      <td>2017-04-01 03:00:21</td>\n",
       "      <td>7f42225584</td>\n",
       "      <td>DEAB0BEF18</td>\n",
       "      <td>2017-04-01</td>\n",
       "      <td>03:00:17</td>\n",
       "      <td>10817.0</td>\n",
       "      <td>180.283333</td>\n",
       "    </tr>\n",
       "    <tr>\n",
       "      <th>2</th>\n",
       "      <td>ABC</td>\n",
       "      <td>Boise City</td>\n",
       "      <td>UNITED STATES</td>\n",
       "      <td>False</td>\n",
       "      <td>2017-04-01 00:00:03</td>\n",
       "      <td>2017-04-01 03:00:19</td>\n",
       "      <td>7f42225584</td>\n",
       "      <td>AD1BB4E656</td>\n",
       "      <td>2017-04-01</td>\n",
       "      <td>03:00:16</td>\n",
       "      <td>10816.0</td>\n",
       "      <td>180.266667</td>\n",
       "    </tr>\n",
       "    <tr>\n",
       "      <th>3</th>\n",
       "      <td>BCD</td>\n",
       "      <td>San Bernardino</td>\n",
       "      <td>UNITED STATES</td>\n",
       "      <td>False</td>\n",
       "      <td>2017-04-01 00:01:42</td>\n",
       "      <td>2017-04-01 00:13:07</td>\n",
       "      <td>5494d16309</td>\n",
       "      <td>2C1A95AC8C</td>\n",
       "      <td>2017-04-01</td>\n",
       "      <td>00:11:25</td>\n",
       "      <td>685.0</td>\n",
       "      <td>11.416667</td>\n",
       "    </tr>\n",
       "    <tr>\n",
       "      <th>4</th>\n",
       "      <td>BCD</td>\n",
       "      <td>Akron</td>\n",
       "      <td>UNITED STATES</td>\n",
       "      <td>True</td>\n",
       "      <td>2017-04-01 00:01:42</td>\n",
       "      <td>2017-04-01 00:13:42</td>\n",
       "      <td>5494d16309</td>\n",
       "      <td>0B781FA334</td>\n",
       "      <td>2017-04-01</td>\n",
       "      <td>00:12:00</td>\n",
       "      <td>720.0</td>\n",
       "      <td>12.000000</td>\n",
       "    </tr>\n",
       "  </tbody>\n",
       "</table>\n",
       "</div>"
      ],
      "text/plain": [
       "  Company            city        country  is_host            jointime  \\\n",
       "0     ABC       Baltimore  UNITED STATES     True 2017-04-01 00:00:01   \n",
       "1     ABC       Baltimore  UNITED STATES    False 2017-04-01 00:00:04   \n",
       "2     ABC      Boise City  UNITED STATES    False 2017-04-01 00:00:03   \n",
       "3     BCD  San Bernardino  UNITED STATES    False 2017-04-01 00:01:42   \n",
       "4     BCD           Akron  UNITED STATES     True 2017-04-01 00:01:42   \n",
       "\n",
       "            leavetime   meetingid      userid        date duration  \\\n",
       "0 2017-04-01 03:00:22  7f42225584  9FE1DE67F2  2017-04-01 03:00:21   \n",
       "1 2017-04-01 03:00:21  7f42225584  DEAB0BEF18  2017-04-01 03:00:17   \n",
       "2 2017-04-01 03:00:19  7f42225584  AD1BB4E656  2017-04-01 03:00:16   \n",
       "3 2017-04-01 00:13:07  5494d16309  2C1A95AC8C  2017-04-01 00:11:25   \n",
       "4 2017-04-01 00:13:42  5494d16309  0B781FA334  2017-04-01 00:12:00   \n",
       "\n",
       "   duration_secs  duration_mins  \n",
       "0        10821.0     180.350000  \n",
       "1        10817.0     180.283333  \n",
       "2        10816.0     180.266667  \n",
       "3          685.0      11.416667  \n",
       "4          720.0      12.000000  "
      ]
     },
     "execution_count": 229,
     "metadata": {},
     "output_type": "execute_result"
    }
   ],
   "source": [
    "data.head()"
   ]
  },
  {
   "cell_type": "code",
   "execution_count": 127,
   "metadata": {
    "collapsed": true
   },
   "outputs": [],
   "source": [
    "company_list = data['Company'].unique()"
   ]
  },
  {
   "cell_type": "code",
   "execution_count": 128,
   "metadata": {
    "collapsed": true
   },
   "outputs": [],
   "source": [
    "company_date = data[['Company', 'date']].drop_duplicates()['Company'].value_counts()"
   ]
  },
  {
   "cell_type": "code",
   "execution_count": 129,
   "metadata": {
    "collapsed": true
   },
   "outputs": [],
   "source": [
    "total_meetings_7day_frame = company_date.rename_axis('Company').reset_index(name='total_meetings_7day')"
   ]
  },
  {
   "cell_type": "code",
   "execution_count": 130,
   "metadata": {},
   "outputs": [
    {
     "data": {
      "text/html": [
       "<div>\n",
       "<style>\n",
       "    .dataframe thead tr:only-child th {\n",
       "        text-align: right;\n",
       "    }\n",
       "\n",
       "    .dataframe thead th {\n",
       "        text-align: left;\n",
       "    }\n",
       "\n",
       "    .dataframe tbody tr th {\n",
       "        vertical-align: top;\n",
       "    }\n",
       "</style>\n",
       "<table border=\"1\" class=\"dataframe\">\n",
       "  <thead>\n",
       "    <tr style=\"text-align: right;\">\n",
       "      <th></th>\n",
       "      <th>Company</th>\n",
       "      <th>total_meetings_7day</th>\n",
       "    </tr>\n",
       "  </thead>\n",
       "  <tbody>\n",
       "    <tr>\n",
       "      <th>0</th>\n",
       "      <td>ABC</td>\n",
       "      <td>3</td>\n",
       "    </tr>\n",
       "    <tr>\n",
       "      <th>1</th>\n",
       "      <td>BCD</td>\n",
       "      <td>2</td>\n",
       "    </tr>\n",
       "  </tbody>\n",
       "</table>\n",
       "</div>"
      ],
      "text/plain": [
       "  Company  total_meetings_7day\n",
       "0     ABC                    3\n",
       "1     BCD                    2"
      ]
     },
     "execution_count": 130,
     "metadata": {},
     "output_type": "execute_result"
    }
   ],
   "source": [
    "total_meetings_7day_frame"
   ]
  },
  {
   "cell_type": "code",
   "execution_count": 131,
   "metadata": {
    "collapsed": true
   },
   "outputs": [],
   "source": [
    "avg_meeting_sec_frame = data.groupby('Company').duration_secs.mean().rename_axis('Company').reset_index(name='avg_meeting_sec')"
   ]
  },
  {
   "cell_type": "code",
   "execution_count": 132,
   "metadata": {},
   "outputs": [
    {
     "data": {
      "text/html": [
       "<div>\n",
       "<style>\n",
       "    .dataframe thead tr:only-child th {\n",
       "        text-align: right;\n",
       "    }\n",
       "\n",
       "    .dataframe thead th {\n",
       "        text-align: left;\n",
       "    }\n",
       "\n",
       "    .dataframe tbody tr th {\n",
       "        vertical-align: top;\n",
       "    }\n",
       "</style>\n",
       "<table border=\"1\" class=\"dataframe\">\n",
       "  <thead>\n",
       "    <tr style=\"text-align: right;\">\n",
       "      <th></th>\n",
       "      <th>Company</th>\n",
       "      <th>avg_meeting_sec</th>\n",
       "    </tr>\n",
       "  </thead>\n",
       "  <tbody>\n",
       "    <tr>\n",
       "      <th>0</th>\n",
       "      <td>ABC</td>\n",
       "      <td>4862.615385</td>\n",
       "    </tr>\n",
       "    <tr>\n",
       "      <th>1</th>\n",
       "      <td>BCD</td>\n",
       "      <td>1483.285714</td>\n",
       "    </tr>\n",
       "  </tbody>\n",
       "</table>\n",
       "</div>"
      ],
      "text/plain": [
       "  Company  avg_meeting_sec\n",
       "0     ABC      4862.615385\n",
       "1     BCD      1483.285714"
      ]
     },
     "execution_count": 132,
     "metadata": {},
     "output_type": "execute_result"
    }
   ],
   "source": [
    "avg_meeting_sec_frame"
   ]
  },
  {
   "cell_type": "code",
   "execution_count": 133,
   "metadata": {
    "collapsed": true
   },
   "outputs": [],
   "source": [
    "avg_meeting_mins_frame = data.groupby('Company').duration_mins.mean().rename_axis('Company').reset_index(name='avg_meeting_mins')"
   ]
  },
  {
   "cell_type": "code",
   "execution_count": 134,
   "metadata": {},
   "outputs": [
    {
     "data": {
      "text/html": [
       "<div>\n",
       "<style>\n",
       "    .dataframe thead tr:only-child th {\n",
       "        text-align: right;\n",
       "    }\n",
       "\n",
       "    .dataframe thead th {\n",
       "        text-align: left;\n",
       "    }\n",
       "\n",
       "    .dataframe tbody tr th {\n",
       "        vertical-align: top;\n",
       "    }\n",
       "</style>\n",
       "<table border=\"1\" class=\"dataframe\">\n",
       "  <thead>\n",
       "    <tr style=\"text-align: right;\">\n",
       "      <th></th>\n",
       "      <th>Company</th>\n",
       "      <th>avg_meeting_mins</th>\n",
       "    </tr>\n",
       "  </thead>\n",
       "  <tbody>\n",
       "    <tr>\n",
       "      <th>0</th>\n",
       "      <td>ABC</td>\n",
       "      <td>81.043590</td>\n",
       "    </tr>\n",
       "    <tr>\n",
       "      <th>1</th>\n",
       "      <td>BCD</td>\n",
       "      <td>24.721429</td>\n",
       "    </tr>\n",
       "  </tbody>\n",
       "</table>\n",
       "</div>"
      ],
      "text/plain": [
       "  Company  avg_meeting_mins\n",
       "0     ABC         81.043590\n",
       "1     BCD         24.721429"
      ]
     },
     "execution_count": 134,
     "metadata": {},
     "output_type": "execute_result"
    }
   ],
   "source": [
    "avg_meeting_mins_frame"
   ]
  },
  {
   "cell_type": "code",
   "execution_count": 135,
   "metadata": {
    "collapsed": true
   },
   "outputs": [],
   "source": [
    "days_secs_frame = pd.merge(total_meetings_7day_frame, avg_meeting_sec_frame)"
   ]
  },
  {
   "cell_type": "code",
   "execution_count": 136,
   "metadata": {},
   "outputs": [
    {
     "data": {
      "text/html": [
       "<div>\n",
       "<style>\n",
       "    .dataframe thead tr:only-child th {\n",
       "        text-align: right;\n",
       "    }\n",
       "\n",
       "    .dataframe thead th {\n",
       "        text-align: left;\n",
       "    }\n",
       "\n",
       "    .dataframe tbody tr th {\n",
       "        vertical-align: top;\n",
       "    }\n",
       "</style>\n",
       "<table border=\"1\" class=\"dataframe\">\n",
       "  <thead>\n",
       "    <tr style=\"text-align: right;\">\n",
       "      <th></th>\n",
       "      <th>Company</th>\n",
       "      <th>total_meetings_7day</th>\n",
       "      <th>avg_meeting_sec</th>\n",
       "    </tr>\n",
       "  </thead>\n",
       "  <tbody>\n",
       "    <tr>\n",
       "      <th>0</th>\n",
       "      <td>ABC</td>\n",
       "      <td>3</td>\n",
       "      <td>4862.615385</td>\n",
       "    </tr>\n",
       "    <tr>\n",
       "      <th>1</th>\n",
       "      <td>BCD</td>\n",
       "      <td>2</td>\n",
       "      <td>1483.285714</td>\n",
       "    </tr>\n",
       "  </tbody>\n",
       "</table>\n",
       "</div>"
      ],
      "text/plain": [
       "  Company  total_meetings_7day  avg_meeting_sec\n",
       "0     ABC                    3      4862.615385\n",
       "1     BCD                    2      1483.285714"
      ]
     },
     "execution_count": 136,
     "metadata": {},
     "output_type": "execute_result"
    }
   ],
   "source": [
    "days_secs_frame"
   ]
  },
  {
   "cell_type": "code",
   "execution_count": 202,
   "metadata": {
    "collapsed": true
   },
   "outputs": [],
   "source": [
    "country_frame = data[['Company','country']].drop_duplicates()"
   ]
  },
  {
   "cell_type": "code",
   "execution_count": 204,
   "metadata": {},
   "outputs": [
    {
     "data": {
      "text/html": [
       "<div>\n",
       "<style>\n",
       "    .dataframe thead tr:only-child th {\n",
       "        text-align: right;\n",
       "    }\n",
       "\n",
       "    .dataframe thead th {\n",
       "        text-align: left;\n",
       "    }\n",
       "\n",
       "    .dataframe tbody tr th {\n",
       "        vertical-align: top;\n",
       "    }\n",
       "</style>\n",
       "<table border=\"1\" class=\"dataframe\">\n",
       "  <thead>\n",
       "    <tr style=\"text-align: right;\">\n",
       "      <th></th>\n",
       "      <th>Company</th>\n",
       "      <th>country</th>\n",
       "    </tr>\n",
       "  </thead>\n",
       "  <tbody>\n",
       "    <tr>\n",
       "      <th>0</th>\n",
       "      <td>ABC</td>\n",
       "      <td>UNITED STATES</td>\n",
       "    </tr>\n",
       "    <tr>\n",
       "      <th>3</th>\n",
       "      <td>BCD</td>\n",
       "      <td>UNITED STATES</td>\n",
       "    </tr>\n",
       "  </tbody>\n",
       "</table>\n",
       "</div>"
      ],
      "text/plain": [
       "  Company        country\n",
       "0     ABC  UNITED STATES\n",
       "3     BCD  UNITED STATES"
      ]
     },
     "execution_count": 204,
     "metadata": {},
     "output_type": "execute_result"
    }
   ],
   "source": [
    "country_frame"
   ]
  },
  {
   "cell_type": "code",
   "execution_count": 205,
   "metadata": {
    "collapsed": true
   },
   "outputs": [],
   "source": [
    "days_secs_mins_frame = pd.merge(days_secs_frame, avg_meeting_mins_frame)"
   ]
  },
  {
   "cell_type": "code",
   "execution_count": 211,
   "metadata": {
    "collapsed": true
   },
   "outputs": [],
   "source": [
    "res = pd.merge(days_secs_mins_frame, country_frame)"
   ]
  },
  {
   "cell_type": "code",
   "execution_count": 212,
   "metadata": {},
   "outputs": [
    {
     "data": {
      "text/html": [
       "<div>\n",
       "<style>\n",
       "    .dataframe thead tr:only-child th {\n",
       "        text-align: right;\n",
       "    }\n",
       "\n",
       "    .dataframe thead th {\n",
       "        text-align: left;\n",
       "    }\n",
       "\n",
       "    .dataframe tbody tr th {\n",
       "        vertical-align: top;\n",
       "    }\n",
       "</style>\n",
       "<table border=\"1\" class=\"dataframe\">\n",
       "  <thead>\n",
       "    <tr style=\"text-align: right;\">\n",
       "      <th></th>\n",
       "      <th>Company</th>\n",
       "      <th>total_meetings_7day</th>\n",
       "      <th>avg_meeting_sec</th>\n",
       "      <th>avg_meeting_mins</th>\n",
       "      <th>country</th>\n",
       "    </tr>\n",
       "  </thead>\n",
       "  <tbody>\n",
       "    <tr>\n",
       "      <th>0</th>\n",
       "      <td>ABC</td>\n",
       "      <td>3</td>\n",
       "      <td>4862.615385</td>\n",
       "      <td>81.043590</td>\n",
       "      <td>UNITED STATES</td>\n",
       "    </tr>\n",
       "    <tr>\n",
       "      <th>1</th>\n",
       "      <td>BCD</td>\n",
       "      <td>2</td>\n",
       "      <td>1483.285714</td>\n",
       "      <td>24.721429</td>\n",
       "      <td>UNITED STATES</td>\n",
       "    </tr>\n",
       "  </tbody>\n",
       "</table>\n",
       "</div>"
      ],
      "text/plain": [
       "  Company  total_meetings_7day  avg_meeting_sec  avg_meeting_mins  \\\n",
       "0     ABC                    3      4862.615385         81.043590   \n",
       "1     BCD                    2      1483.285714         24.721429   \n",
       "\n",
       "         country  \n",
       "0  UNITED STATES  \n",
       "1  UNITED STATES  "
      ]
     },
     "execution_count": 212,
     "metadata": {},
     "output_type": "execute_result"
    }
   ],
   "source": [
    "res"
   ]
  },
  {
   "cell_type": "code",
   "execution_count": 213,
   "metadata": {
    "collapsed": true
   },
   "outputs": [],
   "source": [
    "output  = res.to_json(orient='records')"
   ]
  },
  {
   "cell_type": "code",
   "execution_count": 214,
   "metadata": {
    "collapsed": true
   },
   "outputs": [],
   "source": [
    "import json"
   ]
  },
  {
   "cell_type": "code",
   "execution_count": 215,
   "metadata": {
    "collapsed": true
   },
   "outputs": [],
   "source": [
    "with open('output1_test2.txt', 'w') as outfile:\n",
    "    json.dump(output, outfile, indent=4)"
   ]
  },
  {
   "cell_type": "code",
   "execution_count": null,
   "metadata": {
    "collapsed": true
   },
   "outputs": [],
   "source": [
    ""
   ]
  }
 ],
 "metadata": {
  "kernelspec": {
   "display_name": "Python 2",
   "language": "python",
   "name": "python2"
  },
  "language_info": {
   "codemirror_mode": {
    "name": "ipython",
    "version": 2.0
   },
   "file_extension": ".py",
   "mimetype": "text/x-python",
   "name": "python",
   "nbconvert_exporter": "python",
   "pygments_lexer": "ipython2",
   "version": "2.7.13"
  }
 },
 "nbformat": 4,
 "nbformat_minor": 0
}